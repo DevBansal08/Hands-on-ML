{
 "cells": [
  {
   "cell_type": "markdown",
   "id": "a116418b",
   "metadata": {},
   "source": [
    "# Support Vector Machines\n",
    "\n"
   ]
  },
  {
   "cell_type": "markdown",
   "id": "4da1bc93",
   "metadata": {},
   "source": []
  },
  {
   "cell_type": "code",
   "execution_count": null,
   "id": "9b77f59f",
   "metadata": {
    "vscode": {
     "languageId": "plaintext"
    }
   },
   "outputs": [],
   "source": []
  }
 ],
 "metadata": {
  "language_info": {
   "name": "python"
  }
 },
 "nbformat": 4,
 "nbformat_minor": 5
}
